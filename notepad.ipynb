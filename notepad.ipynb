{
 "cells": [
  {
   "cell_type": "code",
   "execution_count": null,
   "metadata": {},
   "outputs": [],
   "source": [
    "!pip install papermill\n",
    "import papermill\n",
    "params = dict(\n",
    "                tenant_domain='microsoft.onmicrosoft.com',\n",
    "                tenant_id='',\n",
    "                subscription_id='',\n",
    "                resource_group='',\n",
    "                workspace_id='',\n",
    "                qTimestamp='2019-09-15T07:05:20.000',\n",
    "                qEntity='computer')\n",
    "\n",
    "output_notebook = './Test_output.ipynb'\n",
    "\n",
    "input_notebooks = [\n",
    "                    './../Get Started.ipynb'\n",
    "                    ,\n",
    "                    './../Guided Investigation - Anomaly Lookup.ipynb'\n",
    "]\n",
    "!az login --tenant 'microsoft.onmicrosoft.com'\n",
    "for nb in input_notebooks:\n",
    "    papermill.execute_notebook(\n",
    "        nb,\n",
    "        output_notebook,\n",
    "        parameters=params\n",
    "    )"
   ]
  }
 ],
 "metadata": {
  "language_info": {
   "name": "python"
  },
  "orig_nbformat": 4
 },
 "nbformat": 4,
 "nbformat_minor": 2
}
